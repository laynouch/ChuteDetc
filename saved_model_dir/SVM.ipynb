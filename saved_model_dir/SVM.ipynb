{
 "cells": [
  {
   "cell_type": "markdown",
   "metadata": {},
   "source": [
    "# SVM model for Fall Detection"
   ]
  },
  {
   "cell_type": "code",
   "execution_count": 1,
   "metadata": {},
   "outputs": [],
   "source": [
    "import pandas as pd\n",
    "import numpy as np\n",
    "import tensorflow as tf\n",
    "from sklearn.preprocessing import StandardScaler\n",
    "from sklearn.model_selection import RandomizedSearchCV\n",
    "from sklearn.metrics import precision_score, accuracy_score\n",
    "import warnings\n",
    "import os\n",
    "import random\n",
    "import time\n",
    "\n",
    "random.seed(42)\n",
    "warnings.filterwarnings('ignore')"
   ]
  },
  {
   "cell_type": "markdown",
   "metadata": {},
   "source": [
    "Loading data"
   ]
  },
  {
   "cell_type": "code",
   "execution_count": 2,
   "metadata": {},
   "outputs": [],
   "source": [
    "train_df = pd.read_csv(\"C:/Users/dawou/OneDrive/Bureau/ML/ChuteDetc/Train.csv\")\n",
    "test_df = pd.read_csv('C:/Users/dawou/OneDrive/Bureau/ML/ChuteDetc/Test.csv')\n",
    "\n",
    "# Dropping the unnecessary 'Unnamed: 0' column\n",
    "train_df.drop(['Unnamed: 0'], axis=1, inplace=True)\n",
    "test_df.drop(['Unnamed: 0'], axis=1, inplace=True)\n",
    "\n",
    "# Splitting the data into features and target\n",
    "X_train = train_df.drop(['fall', 'label'], axis=1)\n",
    "y_train = train_df['fall']\n",
    "X_test = test_df.drop(['fall', 'label'], axis=1)\n",
    "y_test = test_df['fall']"
   ]
  },
  {
   "cell_type": "markdown",
   "metadata": {},
   "source": [
    "Defining the grid of hyperparameters for SVM"
   ]
  },
  {
   "cell_type": "code",
   "execution_count": 14,
   "metadata": {},
   "outputs": [],
   "source": [
    "random_grid = {\n",
    "    'C': [0.1, 1, 10, 100],\n",
    "    'gamma': [1, 0.1, 0.01, 0.001],\n",
    "    #'kernel': ['rbf', 'poly', 'sigmoid']\n",
    "    'kernel': ['poly']\n",
    "}"
   ]
  },
  {
   "cell_type": "markdown",
   "metadata": {},
   "source": [
    "Creating the SVM classifier using sklearn"
   ]
  },
  {
   "cell_type": "code",
   "execution_count": 15,
   "metadata": {},
   "outputs": [],
   "source": [
    "from sklearn.svm import SVC\n",
    "svm = SVC()"
   ]
  },
  {
   "cell_type": "markdown",
   "metadata": {},
   "source": [
    "Performing Randomized Search"
   ]
  },
  {
   "cell_type": "code",
   "execution_count": 16,
   "metadata": {},
   "outputs": [
    {
     "name": "stdout",
     "output_type": "stream",
     "text": [
      "Fitting 5 folds for each of 48 candidates, totalling 240 fits\n"
     ]
    }
   ],
   "source": [
    "svm_random = RandomizedSearchCV(estimator=svm,\n",
    "                                param_distributions=random_grid,\n",
    "                                n_iter=100,\n",
    "                                cv=9,\n",
    "                                verbose=2,\n",
    "                                random_state=42,\n",
    "                                n_jobs=-1)\n",
    "start_time = time.time()\n",
    "svm_random.fit(X_train, y_train)\n",
    "training_time = time.time() - start_time"
   ]
  },
  {
   "cell_type": "markdown",
   "metadata": {},
   "source": [
    "Best parameters from the search"
   ]
  },
  {
   "cell_type": "code",
   "execution_count": 17,
   "metadata": {},
   "outputs": [
    {
     "name": "stdout",
     "output_type": "stream",
     "text": [
      "{'kernel': 'poly', 'gamma': 0.01, 'C': 1}\n"
     ]
    }
   ],
   "source": [
    "best_params = svm_random.best_params_\n",
    "print(best_params)"
   ]
  },
  {
   "cell_type": "markdown",
   "metadata": {},
   "source": [
    "Evaluating the mode"
   ]
  },
  {
   "cell_type": "code",
   "execution_count": 19,
   "metadata": {},
   "outputs": [
    {
     "name": "stdout",
     "output_type": "stream",
     "text": [
      "Model Performance\n",
      "Accuracy = 97.75%\n",
      "Precision = 96.77%\n",
      "Average Precision = 97.64%\n",
      "Evaluation time: 0.00 seconds\n",
      "Training time: 78.17 seconds\n",
      "Highest accuracy obtained: 97.75%\n",
      "Average accuracy during cross-validation: 78.82%\n",
      "Precision: 96.77%\n",
      "Average Precision: 97.64%\n"
     ]
    }
   ],
   "source": [
    "# Evaluating the model\n",
    "def evaluate_svm(model, test_features, test_labels):\n",
    "    start_time = time.time()\n",
    "    predictions = model.predict(test_features)\n",
    "    evaluation_time = time.time() - start_time\n",
    "    accuracy = accuracy_score(test_labels, predictions) * 100\n",
    "    precision = precision_score(test_labels, predictions, average='binary') * 100\n",
    "    avg_precision = precision_score(test_labels, predictions, average='macro') * 100\n",
    "    print('Model Performance')\n",
    "    print(f'Accuracy = {accuracy:.2f}%')\n",
    "    print(f'Precision = {precision:.2f}%')\n",
    "    print(f'Average Precision = {avg_precision:.2f}%')\n",
    "    print(f'Evaluation time: {evaluation_time:.2f} seconds')\n",
    "    return accuracy, precision, avg_precision, evaluation_time\n",
    "\n",
    "# Evaluate best SVM model\n",
    "best_svm_model = svm_random.best_estimator_\n",
    "accuracy, precision, avg_precision, evaluation_time = evaluate_svm(best_svm_model, X_test, y_test)\n",
    "\n",
    "# Calculating average accuracy from cross-validation results\n",
    "average_accuracy = np.mean(svm_random.cv_results_['mean_test_score']) * 100\n",
    "\n",
    "print(f\"Training time: {training_time:.2f} seconds\")\n",
    "print(f\"Highest accuracy obtained: {accuracy:.2f}%\")\n",
    "print(f\"Average accuracy during cross-validation: {average_accuracy:.2f}%\")\n",
    "print(f\"Precision: {precision:.2f}%\")\n",
    "print(f\"Average Precision: {avg_precision:.2f}%\")"
   ]
  },
  {
   "cell_type": "markdown",
   "metadata": {},
   "source": []
  }
 ],
 "metadata": {
  "kernelspec": {
   "display_name": "Python 3",
   "language": "python",
   "name": "python3"
  },
  "language_info": {
   "codemirror_mode": {
    "name": "ipython",
    "version": 3
   },
   "file_extension": ".py",
   "mimetype": "text/x-python",
   "name": "python",
   "nbconvert_exporter": "python",
   "pygments_lexer": "ipython3",
   "version": "3.12.3"
  }
 },
 "nbformat": 4,
 "nbformat_minor": 2
}
